{
 "cells": [
  {
   "cell_type": "markdown",
   "id": "90adb04f",
   "metadata": {},
   "source": [
    "# The performance metrics include:\n",
    "TN: True Negatives\n",
    "TP: True Positives\n",
    "FP: False Positives\n",
    "FN: False Negatives\n",
    "TPR: True Positive Rate\n",
    "FNR: False Negative Rate\n",
    "Acc: Accuracy\n",
    "Prec: Precision\n",
    "Sen: Sensitivity\n",
    "CSI: Critical Success Index\n",
    "POD: Probability of Detection\n",
    "FPR: False Positive Rate"
   ]
  },
  {
   "cell_type": "code",
   "execution_count": null,
   "id": "e3fb68b8",
   "metadata": {},
   "outputs": [],
   "source": [
    "def eval(out_image1,out_image2):\n",
    "    merged=out_image1+out_image2_resized\n",
    "    unique_values, counts = np.unique(merged, return_counts=True)\n",
    "    class_pixel_counts = dict(zip(unique_values, counts))\n",
    "    class_pixel_counts\n",
    "    TN=class_pixel_counts[1]\n",
    "    FP=class_pixel_counts[2]\n",
    "    FN=class_pixel_counts[3]\n",
    "    TP=class_pixel_counts[4]\n",
    "    TPR=(TP/(TP+FN))\n",
    "    FNR=(FN/(TP+FN))\n",
    "    Acc=(TP+TN)/(TP+TN+FP+FN)\n",
    "    Prec=TP/(TP+FP)\n",
    "    sen=TP/(TP+FN)\n",
    "    F1_score=2*(Prec*sen)/(Prec+sen)\n",
    "    CSI=(TP/(TP+FN+FP))\n",
    "    POD=(TP/(TP+FN))\n",
    "    FPR=(FP/(FP+TN))\n",
    "    return unique_values,TN,FP,FN,TP,TPR,FNR,Acc,Prec,sen,CSI,F1_score,POD,FPR,merged\n",
    "unique_values,TN,FP,FN,TP,TPR,FNR,Acc,Prec,sen,CSI,F1_score,POD,FPR,merged=eval(out_image1,out_image2_resized)"
   ]
  }
 ],
 "metadata": {
  "kernelspec": {
   "display_name": "Python 3 (ipykernel)",
   "language": "python",
   "name": "python3"
  },
  "language_info": {
   "codemirror_mode": {
    "name": "ipython",
    "version": 3
   },
   "file_extension": ".py",
   "mimetype": "text/x-python",
   "name": "python",
   "nbconvert_exporter": "python",
   "pygments_lexer": "ipython3",
   "version": "3.11.7"
  }
 },
 "nbformat": 4,
 "nbformat_minor": 5
}
