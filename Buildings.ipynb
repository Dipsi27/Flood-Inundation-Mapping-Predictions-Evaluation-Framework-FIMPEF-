{
 "cells": [
  {
   "cell_type": "code",
   "execution_count": 2,
   "id": "e93b73c7",
   "metadata": {},
   "outputs": [],
   "source": [
    "\n",
    "def process_raster(raster_path, polygon_gdf):\n",
    "    with rasterio.open(raster_path) as src:\n",
    "        data = src.read(1)\n",
    "        if data.dtype not in ['int16', 'int32', 'uint8', 'uint16', 'float32']:\n",
    "            data = data.astype('float32')   \n",
    "        crs = src.crs\n",
    "        transform = src.transform\n",
    "        data = np.where(data > 0, 1, 0).astype('uint8')\n",
    "        mask = data == 1\n",
    "        feature_generator = shapes(data, mask=mask, transform=transform)\n",
    "        polygons = [shape(feature[0]) for feature in feature_generator]\n",
    "        gdf = GeoDataFrame({'geometry': polygons}, crs=crs)    \n",
    "        polygon_gdf = polygon_gdf.to_crs(crs)\n",
    "        intersection_gdf = gpd.overlay(gdf, polygon_gdf, how='intersection')\n",
    "        return len(intersection_gdf)\n",
    "def compare_rasters(benchmark_path, candidate_paths, polygon_gdf):\n",
    "    benchmark_result = process_raster(benchmark_path, polygon_gdf)\n",
    "    candidate_results = [process_raster(path, polygon_gdf) for path in candidate_paths]\n",
    "    return benchmark_result, candidate_results\n",
    "\n",
    "benchmark_result, candidate_results = compare_rasters(benchmark_path, candidate_paths, polygon_gdf)\n"
   ]
  },
  {
   "cell_type": "code",
   "execution_count": null,
   "id": "39b5de52",
   "metadata": {},
   "outputs": [],
   "source": []
  }
 ],
 "metadata": {
  "kernelspec": {
   "display_name": "Python 3 (ipykernel)",
   "language": "python",
   "name": "python3"
  },
  "language_info": {
   "codemirror_mode": {
    "name": "ipython",
    "version": 3
   },
   "file_extension": ".py",
   "mimetype": "text/x-python",
   "name": "python",
   "nbconvert_exporter": "python",
   "pygments_lexer": "ipython3",
   "version": "3.11.7"
  }
 },
 "nbformat": 4,
 "nbformat_minor": 5
}
