{
 "cells": [
  {
   "cell_type": "code",
   "execution_count": 5,
   "id": "6e6faa81",
   "metadata": {},
   "outputs": [
    {
     "name": "stdout",
     "output_type": "stream",
     "text": [
      "Bounding geometry of the smallest raster saved to /Users/ddevi/Documents/SRC/smallest_raster_shapefile.shp\n"
     ]
    }
   ],
   "source": [
    "\n",
    "def get_smallest_raster_path(benchmark_path, *candidate_paths):\n",
    "    def get_raster_shape(raster_path):\n",
    "        with rasterio.open(raster_path) as src:\n",
    "            return src.shape\n",
    "\n",
    "    all_paths = [benchmark_path] + list(candidate_paths)\n",
    "    smallest_raster = None\n",
    "    smallest_size = float('inf')\n",
    "\n",
    "    for raster_path in all_paths:\n",
    "        shape = get_raster_shape(raster_path)\n",
    "        size = shape[0] * shape[1]\n",
    "        if size < smallest_size:\n",
    "            smallest_size = size\n",
    "            smallest_raster = raster_path\n",
    "\n",
    "    return smallest_raster\n",
    "\n",
    "def create_shapefile_from_raster(raster_path):\n",
    "    with rasterio.open(raster_path) as src:\n",
    "        raster_data = src.read(1)\n",
    "        transform = src.transform\n",
    "        nodata_value = src.nodata\n",
    "        crs = src.crs\n",
    "        \n",
    "    if nodata_value is None:\n",
    "        is_valid = np.ones_like(raster_data, dtype=np.uint8)\n",
    "    else:\n",
    "        is_valid = (raster_data != nodata_value).astype(np.uint8)\n",
    "\n",
    "    valid_shapes = []\n",
    "    for coords, value in features.shapes(is_valid, transform=transform):\n",
    "        if value != 0:\n",
    "            geom = shape(coords)\n",
    "            valid_shapes.append({'geometry': geom, 'properties': {}})\n",
    "\n",
    "    gdf = gpd.GeoDataFrame(valid_shapes, geometry='geometry', crs=crs)\n",
    "    union_geom = unary_union(gdf.geometry)\n",
    "    bounding_geom = union_geom.convex_hull\n",
    "    bounding_gdf = gpd.GeoDataFrame({'geometry': [bounding_geom]}, crs=gdf.crs)\n",
    "\n",
    "    return bounding_geom\n",
    "\n",
    "smallest_raster_path = get_smallest_raster_path(benchmark_path, *candidate_paths)\n",
    "\n",
    "bounding_geom=create_shapefile_from_raster(smallest_raster_path)\n"
   ]
  },
  {
   "cell_type": "code",
   "execution_count": null,
   "id": "683b69aa",
   "metadata": {},
   "outputs": [],
   "source": []
  }
 ],
 "metadata": {
  "kernelspec": {
   "display_name": "Python 3 (ipykernel)",
   "language": "python",
   "name": "python3"
  },
  "language_info": {
   "codemirror_mode": {
    "name": "ipython",
    "version": 3
   },
   "file_extension": ".py",
   "mimetype": "text/x-python",
   "name": "python",
   "nbconvert_exporter": "python",
   "pygments_lexer": "ipython3",
   "version": "3.11.7"
  }
 },
 "nbformat": 4,
 "nbformat_minor": 5
}
